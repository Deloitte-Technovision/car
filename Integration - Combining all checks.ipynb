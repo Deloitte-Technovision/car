{
 "cells": [
  {
   "cell_type": "code",
   "execution_count": 1,
   "metadata": {},
   "outputs": [
    {
     "name": "stderr",
     "output_type": "stream",
     "text": [
      "Using TensorFlow backend.\n"
     ]
    }
   ],
   "source": [
    "#Import Libraries and Packages\n",
    "\n",
    "import os\n",
    "import json\n",
    "\n",
    "# keras imports\n",
    "from keras.preprocessing.image import img_to_array, load_img\n",
    "from keras.utils.data_utils import get_file\n",
    "from keras.applications.vgg16 import VGG16, preprocess_input\n",
    "from keras.preprocessing import image\n",
    "from keras.models import Model\n",
    "\n",
    "\n",
    "import h5py\n",
    "import numpy as np\n",
    "import pickle as pk"
   ]
  },
  {
   "cell_type": "code",
   "execution_count": 2,
   "metadata": {},
   "outputs": [],
   "source": [
    "import warnings\n",
    "warnings.filterwarnings('ignore')"
   ]
  },
  {
   "cell_type": "code",
   "execution_count": 3,
   "metadata": {},
   "outputs": [
    {
     "name": "stdout",
     "output_type": "stream",
     "text": [
      "WARNING:tensorflow:From C:\\Users\\Ashar\\Anaconda3\\lib\\site-packages\\tensorflow\\python\\framework\\op_def_library.py:263: colocate_with (from tensorflow.python.framework.ops) is deprecated and will be removed in a future version.\n",
      "Instructions for updating:\n",
      "Colocations handled automatically by placer.\n"
     ]
    }
   ],
   "source": [
    "#Loading Models for various checks\n",
    "first_check = VGG16(weights='imagenet')\n",
    "second_check = pk.load(open(\"C:/Users/Ashar/Desktop/cdd/car_damage_check/classifier.pickle\", 'rb')) #damaged vs whole\n",
    "third_check = pk.load(open(\"C:/Users/Ashar/Desktop/cdd/car_damage_check/FRS/classifier.pickle\", 'rb')) # Front Rear Side\n",
    "fourth_check = pk.load(open(\"C:/Users/Ashar/Desktop/cdd/car_damage_check/Severity/classifier.pickle\", 'rb')) # Minor Moderate Severe"
   ]
  },
  {
   "cell_type": "code",
   "execution_count": 4,
   "metadata": {},
   "outputs": [],
   "source": [
    "# Loading  valid categories for identifying cars using VGG16\n",
    "with open('cat_counter.pk', 'rb') as f:\n",
    "    cat_counter = pk.load(f)"
   ]
  },
  {
   "cell_type": "code",
   "execution_count": 5,
   "metadata": {},
   "outputs": [
    {
     "data": {
      "text/plain": [
       "Counter({('n04252225', 'snowplow'): 7.0860428239102475,\n",
       "         ('n03478589', 'half_track'): 0.866818881360814,\n",
       "         ('n04461696', 'tow_truck'): 18.774352196021937,\n",
       "         ('n03126707', 'crane'): 0.10376818850636482,\n",
       "         ('n03417042', 'garbage_truck'): 1.4159725196659565,\n",
       "         ('n02701002', 'ambulance'): 5.562828447378706,\n",
       "         ('n03977966', 'police_van'): 10.421011940110475,\n",
       "         ('n03345487', 'fire_engine'): 2.669069293770008,\n",
       "         ('n03670208', 'limousine'): 53.60918720217887,\n",
       "         ('n03594945', 'jeep'): 30.023144871927798,\n",
       "         ('n03930630', 'pickup'): 65.00295729149366,\n",
       "         ('n04467665', 'trailer_truck'): 3.2392262514913455,\n",
       "         ('n02814533', 'beach_wagon'): 67.8161908974871,\n",
       "         ('n03770679', 'minivan'): 132.0488832872652,\n",
       "         ('n02974003', 'car_wheel'): 17.176708043407416,\n",
       "         ('n03100240', 'convertible'): 91.4138630888192,\n",
       "         ('n03459775', 'grille'): 18.050612367878784,\n",
       "         ('n04285008', 'sports_car'): 116.25083061028272,\n",
       "         ('n04037443', 'racer'): 39.565477655269206,\n",
       "         ('n03769881', 'minibus'): 20.396594173987978,\n",
       "         ('n02930766', 'cab'): 17.85476842802018,\n",
       "         ('n03791053', 'motor_scooter'): 2.326989619061351,\n",
       "         ('n03891332', 'parking_meter'): 1.287106045987457,\n",
       "         ('n03782006', 'monitor'): 0.1300608031451702,\n",
       "         ('n03776460', 'mobile_home'): 1.978166462853551,\n",
       "         ('n03995372', 'power_drill'): 0.12424369156360626,\n",
       "         ('n04517823', 'vacuum'): 0.815498773008585,\n",
       "         ('n03000684', 'chain_saw'): 0.31343117356300354,\n",
       "         ('n03485407', 'hand-held_computer'): 0.06039072945713997,\n",
       "         ('n02965783', 'car_mirror'): 1.3235940700396895,\n",
       "         ('n03445924', 'golfcart'): 2.678883731830865,\n",
       "         ('n03649909', 'lawn_mower'): 1.1141241807490587,\n",
       "         ('n03796401', 'moving_van'): 14.755289854540024,\n",
       "         ('n03792972', 'mountain_tent'): 0.3156786113977432,\n",
       "         ('n04613696', 'yurt'): 0.4832741655409336,\n",
       "         ('n02917067', 'bullet_train'): 0.9943538829684258,\n",
       "         ('n03584829', 'iron'): 0.3461720608174801,\n",
       "         ('n04273569', 'speedboat'): 0.04745054617524147,\n",
       "         ('n04252077', 'snowmobile'): 1.6088949460536242,\n",
       "         ('n02704792', 'amphibian'): 1.4281163192354143,\n",
       "         ('n03895866', 'passenger_car'): 0.15566769149154425,\n",
       "         ('n04009552', 'projector'): 0.13864324241876602,\n",
       "         ('n03666591', 'lighter'): 0.05755401775240898,\n",
       "         ('n04120489', 'running_shoe'): 0.46978747844696045,\n",
       "         ('n04254680', 'soccer_ball'): 0.17073526978492737,\n",
       "         ('n03127747', 'crash_helmet'): 0.7266965564340353,\n",
       "         ('n03623198', 'knee_pad'): 0.07474508136510849,\n",
       "         ('n03877845', 'palace'): 0.04191011190414429,\n",
       "         ('n03444034', 'go-kart'): 0.5824016388505697,\n",
       "         ('n04065272', 'recreational_vehicle'): 3.7192174529773183,\n",
       "         ('n02992529', 'cellular_telephone'): 0.07393970713019371,\n",
       "         ('n03777568', 'Model_T'): 0.9100877791643143,\n",
       "         ('n06874185', 'traffic_light'): 0.2088027261197567,\n",
       "         ('n03976467', 'Polaroid_camera'): 0.20491796731948853,\n",
       "         ('n04004767', 'printer'): 0.081391341984272,\n",
       "         ('n09428293', 'seashore'): 0.036389585584402084,\n",
       "         ('n03032252', 'cinema'): 0.30575740337371826,\n",
       "         ('n04204347', 'shopping_cart'): 0.15126865170896053,\n",
       "         ('n03529860', 'home_theater'): 0.06184065714478493,\n",
       "         ('n03457902', 'greenhouse'): 0.09260953217744827,\n",
       "         ('n03899768', 'patio'): 0.06233489513397217,\n",
       "         ('n04487081', 'trolleybus'): 0.43096867203712463,\n",
       "         ('n04208210', 'shovel'): 0.007062006276100874,\n",
       "         ('n02860847', 'bobsled'): 0.5590140968561172,\n",
       "         ('n04069434', 'reflex_camera'): 0.0460992269217968,\n",
       "         ('n04286575', 'spotlight'): 0.03678291290998459,\n",
       "         ('n03710193', 'mailbox'): 0.09888404980301857,\n",
       "         ('n03496892', 'harvester'): 0.08055983483791351,\n",
       "         ('n03384352', 'forklift'): 0.14135579764842987,\n",
       "         ('n03967562', 'plow'): 0.023663688451051712,\n",
       "         ('n04465501', 'tractor'): 0.055528681725263596,\n",
       "         ('n04146614', 'school_bus'): 0.023607006296515465,\n",
       "         ('n04404412', 'television'): 0.1480170041322708,\n",
       "         ('n04456115', 'torch'): 0.24401016533374786,\n",
       "         ('n02782093', 'balloon'): 0.11419829726219177,\n",
       "         ('n03355925', 'flagpole'): 0.09716568887233734,\n",
       "         ('n03662601', 'lifeboat'): 0.14262346923351288,\n",
       "         ('n04133789', 'sandal'): 0.042465563863515854,\n",
       "         ('n02971356', 'carton'): 0.03768602013587952,\n",
       "         ('n06794110', 'street_sign'): 0.037863243371248245,\n",
       "         ('n02776631', 'bakery'): 0.059041231870651245,\n",
       "         ('n03425413', 'gas_pump'): 0.03492192178964615,\n",
       "         ('n03344393', 'fireboat'): 0.052499961107969284,\n",
       "         ('n09193705', 'alp'): 0.08289461582899094,\n",
       "         ('n03197337', 'digital_watch'): 0.16312357783317566,\n",
       "         ('n03785016', 'moped'): 0.14909588173031807,\n",
       "         ('n04204238', 'shopping_basket'): 0.03290067985653877,\n",
       "         ('n04265275', 'space_heater'): 0.03098158724606037,\n",
       "         ('n04355338', 'sundial'): 0.14003250002861023,\n",
       "         ('n02950826', 'cannon'): 0.05690956115722656,\n",
       "         ('n04356056', 'sunglasses'): 0.025669461116194725,\n",
       "         ('n04335435', 'streetcar'): 0.4827430434525013,\n",
       "         ('n02747177', 'ashcan'): 0.13356928154826164,\n",
       "         ('n04542943', 'waffle_iron'): 0.1274617463350296,\n",
       "         ('n02988304', 'CD_player'): 0.09388755261898041,\n",
       "         ('n04336792', 'stretcher'): 0.03830252215266228,\n",
       "         ('n04243546', 'slot'): 0.03655112534761429,\n",
       "         ('n01833805', 'hummingbird'): 0.5929092168807983,\n",
       "         ('n03187595', 'dial_telephone'): 0.02124403417110443,\n",
       "         ('n04258138', 'solar_dish'): 0.4237607717514038,\n",
       "         ('n04049303', 'rain_barrel'): 0.03437025099992752})"
      ]
     },
     "execution_count": 5,
     "metadata": {},
     "output_type": "execute_result"
    }
   ],
   "source": [
    "cat_counter"
   ]
  },
  {
   "cell_type": "code",
   "execution_count": 6,
   "metadata": {},
   "outputs": [],
   "source": [
    "# shortlisting top 27 Categories that VGG16 stores for cars (Can be altered for less or more)\n",
    "cat_list  = [k for k, v in cat_counter.most_common()[:27]]"
   ]
  },
  {
   "cell_type": "code",
   "execution_count": 7,
   "metadata": {},
   "outputs": [
    {
     "data": {
      "text/plain": [
       "[('n03770679', 'minivan'),\n",
       " ('n04285008', 'sports_car'),\n",
       " ('n03100240', 'convertible'),\n",
       " ('n02814533', 'beach_wagon'),\n",
       " ('n03930630', 'pickup'),\n",
       " ('n03670208', 'limousine'),\n",
       " ('n04037443', 'racer'),\n",
       " ('n03594945', 'jeep'),\n",
       " ('n03769881', 'minibus'),\n",
       " ('n04461696', 'tow_truck'),\n",
       " ('n03459775', 'grille'),\n",
       " ('n02930766', 'cab'),\n",
       " ('n02974003', 'car_wheel'),\n",
       " ('n03796401', 'moving_van'),\n",
       " ('n03977966', 'police_van'),\n",
       " ('n04252225', 'snowplow'),\n",
       " ('n02701002', 'ambulance'),\n",
       " ('n04065272', 'recreational_vehicle'),\n",
       " ('n04467665', 'trailer_truck'),\n",
       " ('n03445924', 'golfcart'),\n",
       " ('n03345487', 'fire_engine'),\n",
       " ('n03791053', 'motor_scooter'),\n",
       " ('n03776460', 'mobile_home'),\n",
       " ('n04252077', 'snowmobile'),\n",
       " ('n02704792', 'amphibian'),\n",
       " ('n03417042', 'garbage_truck'),\n",
       " ('n02965783', 'car_mirror')]"
      ]
     },
     "execution_count": 7,
     "metadata": {},
     "output_type": "execute_result"
    }
   ],
   "source": [
    "cat_list"
   ]
  },
  {
   "cell_type": "markdown",
   "metadata": {},
   "source": [
    "First Check - Car or not"
   ]
  },
  {
   "cell_type": "code",
   "execution_count": 8,
   "metadata": {},
   "outputs": [],
   "source": [
    "CLASS_INDEX = None"
   ]
  },
  {
   "cell_type": "code",
   "execution_count": 9,
   "metadata": {},
   "outputs": [],
   "source": [
    "CLASS_INDEX_PATH = 'C:/Users/Ashar/Desktop/cdd/imagenet_class_index.json'"
   ]
  },
  {
   "cell_type": "code",
   "execution_count": 10,
   "metadata": {},
   "outputs": [],
   "source": [
    "def get_predictions(preds,top=5):\n",
    "    global CLASS_INDEX\n",
    "    \n",
    "    #Load the jason file\n",
    "    CLASS_INDEX = json.load(open(CLASS_INDEX_PATH))\n",
    "    \n",
    "    #get the results\n",
    "    results = []\n",
    "    for pred in preds:\n",
    "        top_indices = pred.argsort()[-top:][::-1]\n",
    "        result = [tuple(CLASS_INDEX[str(i)]) + (pred[i],) for i in top_indices]\n",
    "        result.sort(key=lambda x: x[2], reverse=True)\n",
    "        results.append(result)\n",
    "    return results"
   ]
  },
  {
   "cell_type": "code",
   "execution_count": 11,
   "metadata": {},
   "outputs": [],
   "source": [
    "def prepare_img_224(img_path):\n",
    "    img = load_img(img_path, target_size=(224, 224))\n",
    "    x = img_to_array(img)\n",
    "    x = np.expand_dims(x, axis=0)\n",
    "    x = preprocess_input(x)\n",
    "    return x"
   ]
  },
  {
   "cell_type": "code",
   "execution_count": 12,
   "metadata": {},
   "outputs": [],
   "source": [
    "def car_categories_check(img_224, model):\n",
    "    print (\"Validating that this is a picture of your car...\")\n",
    "    out = model.predict(img_224)\n",
    "    top = get_predictions(out, top=5)\n",
    "    for j in top[0]:\n",
    "        if j[0:2] in cat_list:\n",
    "            print (\"Car Check Passed!!!\")\n",
    "            print (\"\\n\")\n",
    "            return True \n",
    "    return False "
   ]
  },
  {
   "cell_type": "markdown",
   "metadata": {},
   "source": [
    "Second Check - Damaged or not"
   ]
  },
  {
   "cell_type": "code",
   "execution_count": 13,
   "metadata": {},
   "outputs": [],
   "source": [
    "def car_damage_check(classifier):\n",
    "    print (\"Validating that damage exists...\")\n",
    "    base_model = first_check\n",
    "    train_labels = ['Damaged', 'Not Damaged']\n",
    "    \n",
    "    model = Model(input=base_model.input, output=base_model.get_layer('fc1').output)\n",
    "    image_size = (224, 224)\n",
    "    img = image.load_img(img_path, target_size=image_size)\n",
    "    x = image.img_to_array(img)\n",
    "    x = np.expand_dims(x, axis=0)\n",
    "    x = preprocess_input(x)\n",
    "    feature = model.predict(x)\n",
    "    flat = feature.flatten()\n",
    "    flat = np.expand_dims(flat, axis=0)\n",
    "    preds = classifier.predict(flat)\n",
    "    prediction = train_labels[preds[0]]\n",
    "    \n",
    "    if train_labels[preds[0]] == 'Damaged':\n",
    "        print (\"Validation complete - proceeding to location and severity determination\")\n",
    "        print (\"\\n\")\n",
    "        return True \n",
    "    else:\n",
    "        return False"
   ]
  },
  {
   "cell_type": "markdown",
   "metadata": {},
   "source": [
    "Third Check - Location Assesment"
   ]
  },
  {
   "cell_type": "code",
   "execution_count": 14,
   "metadata": {},
   "outputs": [],
   "source": [
    "def location_assessment(classifier):\n",
    "    print (\"Validating the damage area - Front, Rear or Side\")\n",
    "    base_model = first_check\n",
    "    train_labels = ['Front Damage', 'Rear Damage', 'Side Damage']\n",
    "    \n",
    "    model = Model(input=base_model.input, output=base_model.get_layer('fc1').output)\n",
    "    image_size = (224, 224)\n",
    "    img = image.load_img(img_path, target_size=image_size)\n",
    "    x = image.img_to_array(img)\n",
    "    x = np.expand_dims(x, axis=0)\n",
    "    x = preprocess_input(x)\n",
    "    feature = model.predict(x)\n",
    "    flat = feature.flatten()\n",
    "    flat = np.expand_dims(flat, axis=0)\n",
    "    preds = classifier.predict(flat)\n",
    "    prediction = train_labels[preds[0]]\n",
    "    print (\"Your Car is damaged at - \" + train_labels[preds[0]])\n",
    "    print (\"Location assesment complete\")\n",
    "    print(\"\\n\")"
   ]
  },
  {
   "cell_type": "markdown",
   "metadata": {},
   "source": [
    "Fourth Check - Location Assesment"
   ]
  },
  {
   "cell_type": "code",
   "execution_count": 15,
   "metadata": {},
   "outputs": [],
   "source": [
    "def severity_assessment(classifier):\n",
    "    print (\"Validating the Severity...\")\n",
    "    base_model = first_check\n",
    "    train_labels = ['Minor Damage', 'Moderate Damage', 'Severe Damage']\n",
    "    \n",
    "    model = Model(input=base_model.input, output=base_model.get_layer('fc1').output)\n",
    "    image_size = (224, 224)\n",
    "    img = image.load_img(img_path, target_size=image_size)\n",
    "    x = image.img_to_array(img)\n",
    "    x = np.expand_dims(x, axis=0)\n",
    "    x = preprocess_input(x)\n",
    "    feature = model.predict(x)\n",
    "    flat = feature.flatten()\n",
    "    flat = np.expand_dims(flat, axis=0)\n",
    "    preds = classifier.predict(flat)\n",
    "    prediction = train_labels[preds[0]]\n",
    "    print (\"Your Car damage impact is - \" + train_labels[preds[0]])\n",
    "    print (\"Severity assesment complete\")\n",
    "    print (\"\\n\")\n",
    "    print (\"Thank you for using the assesment kit from Ashar Siddiqui!!!\")\n",
    "    print (\"More such kits in pipeline\")"
   ]
  },
  {
   "cell_type": "markdown",
   "metadata": {},
   "source": [
    "Engine"
   ]
  },
  {
   "cell_type": "code",
   "execution_count": 16,
   "metadata": {},
   "outputs": [],
   "source": [
    "\n",
    "def engine(img):\n",
    "    while True:\n",
    "        try:\n",
    "            img_224 = prepare_img_224(img)\n",
    "            g1 = car_categories_check(img_224, first_check)\n",
    "\n",
    "            if g1 is False:\n",
    "                print (\"Are you sure this is a picture of your car? Please submit another picture of the damage.\")\n",
    "                print (\"Hint: Try zooming in/out, using a different angle or different lighting.\")\n",
    "                break\n",
    "\n",
    "            g2 = car_damage_check(second_check)\n",
    "\n",
    "            if g2 is False:\n",
    "                print (\"Are you sure that your car is damaged? Please submit another picture of the damage.\")\n",
    "                print (\"Hint: Try zooming in/out, using a different angle or different lighting.\")\n",
    "                break\n",
    "\n",
    "            x = location_assessment(third_check)\n",
    "            y = severity_assessment(fourth_check)\n",
    "            break\n",
    "        except:\n",
    "            print (\"Image not accessible. Please try again.\")\n",
    "            break"
   ]
  },
  {
   "cell_type": "code",
   "execution_count": 23,
   "metadata": {},
   "outputs": [],
   "source": [
    "img_path = 'C:/Users/Ashar/Desktop/engine/damaged car 3.jpg'"
   ]
  },
  {
   "cell_type": "code",
   "execution_count": 24,
   "metadata": {},
   "outputs": [
    {
     "name": "stdout",
     "output_type": "stream",
     "text": [
      "Validating that this is a picture of your car...\n",
      "Car Check Passed!!!\n",
      "\n",
      "\n",
      "Validating that damage exists...\n",
      "Validation complete - proceeding to location and severity determination\n",
      "\n",
      "\n",
      "Validating the damage area - Front, Rear or Side\n",
      "Your Car is damaged at - Side Damage\n",
      "Location assesment complete\n",
      "\n",
      "\n",
      "Validating the Severity...\n",
      "Your Car damage impact is - Moderate Damage\n",
      "Severity assesment complete\n",
      "\n",
      "\n",
      "Thank you for using the assesment kit from Ashar Siddiqui!!!\n",
      "More such kits in pipeline\n"
     ]
    }
   ],
   "source": [
    "engine(img_path)"
   ]
  },
  {
   "cell_type": "code",
   "execution_count": null,
   "metadata": {},
   "outputs": [],
   "source": []
  },
  {
   "cell_type": "code",
   "execution_count": null,
   "metadata": {},
   "outputs": [],
   "source": []
  }
 ],
 "metadata": {
  "kernelspec": {
   "display_name": "Python 3",
   "language": "python",
   "name": "python3"
  },
  "language_info": {
   "codemirror_mode": {
    "name": "ipython",
    "version": 3
   },
   "file_extension": ".py",
   "mimetype": "text/x-python",
   "name": "python",
   "nbconvert_exporter": "python",
   "pygments_lexer": "ipython3",
   "version": "3.7.1"
  }
 },
 "nbformat": 4,
 "nbformat_minor": 2
}
